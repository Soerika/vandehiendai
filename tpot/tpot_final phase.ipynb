{
 "cells": [
  {
   "cell_type": "code",
   "execution_count": 1,
   "metadata": {},
   "outputs": [
    {
     "name": "stderr",
     "output_type": "stream",
     "text": [
      "c:\\Users\\PV\\AppData\\Local\\Programs\\Python\\Python311\\Lib\\site-packages\\tpot\\builtins\\__init__.py:36: UserWarning: Warning: optional dependency `torch` is not available. - skipping import of NN models.\n",
      "  warnings.warn(\"Warning: optional dependency `torch` is not available. - skipping import of NN models.\")\n"
     ]
    }
   ],
   "source": [
    "import tpot\n",
    "\n",
    "# tools\n",
    "import pandas as pd\n",
    "import numpy as np\n",
    "\n",
    "# graph\n",
    "import matplotlib as mpl\n",
    "import matplotlib.pyplot as plt\n",
    "\n",
    "import seaborn as sns\n",
    "import seaborn.objects as so\n",
    "\n",
    "from sklearn.preprocessing import LabelEncoder\n",
    "from sklearn.model_selection import train_test_split\n",
    "from sklearn.metrics import mean_squared_error\n",
    "from sklearn.metrics import mean_absolute_percentage_error\n",
    "from sklearn.metrics import mean_absolute_percentage_error"
   ]
  },
  {
   "cell_type": "code",
   "execution_count": 2,
   "metadata": {},
   "outputs": [
    {
     "data": {
      "text/html": [
       "<div>\n",
       "<style scoped>\n",
       "    .dataframe tbody tr th:only-of-type {\n",
       "        vertical-align: middle;\n",
       "    }\n",
       "\n",
       "    .dataframe tbody tr th {\n",
       "        vertical-align: top;\n",
       "    }\n",
       "\n",
       "    .dataframe thead th {\n",
       "        text-align: right;\n",
       "    }\n",
       "</style>\n",
       "<table border=\"1\" class=\"dataframe\">\n",
       "  <thead>\n",
       "    <tr style=\"text-align: right;\">\n",
       "      <th></th>\n",
       "      <th>vec</th>\n",
       "      <th>deltachi</th>\n",
       "      <th>delta</th>\n",
       "      <th>deltahmix</th>\n",
       "      <th>deltasmix</th>\n",
       "      <th>phase</th>\n",
       "      <th>ys</th>\n",
       "    </tr>\n",
       "  </thead>\n",
       "  <tbody>\n",
       "    <tr>\n",
       "      <th>0</th>\n",
       "      <td>9.000000</td>\n",
       "      <td>0.032998</td>\n",
       "      <td>0.327647</td>\n",
       "      <td>-1.333333</td>\n",
       "      <td>9.134371</td>\n",
       "      <td>FCC</td>\n",
       "      <td>204.0</td>\n",
       "    </tr>\n",
       "    <tr>\n",
       "      <th>1</th>\n",
       "      <td>9.000000</td>\n",
       "      <td>0.032998</td>\n",
       "      <td>0.327647</td>\n",
       "      <td>-1.333333</td>\n",
       "      <td>9.134371</td>\n",
       "      <td>FCC</td>\n",
       "      <td>209.0</td>\n",
       "    </tr>\n",
       "    <tr>\n",
       "      <th>2</th>\n",
       "      <td>9.000000</td>\n",
       "      <td>0.032998</td>\n",
       "      <td>0.327647</td>\n",
       "      <td>-1.333333</td>\n",
       "      <td>9.134371</td>\n",
       "      <td>FCC</td>\n",
       "      <td>211.0</td>\n",
       "    </tr>\n",
       "    <tr>\n",
       "      <th>3</th>\n",
       "      <td>8.615385</td>\n",
       "      <td>0.032490</td>\n",
       "      <td>2.025282</td>\n",
       "      <td>-11.834320</td>\n",
       "      <td>10.686521</td>\n",
       "      <td>FCC</td>\n",
       "      <td>196.0</td>\n",
       "    </tr>\n",
       "    <tr>\n",
       "      <th>4</th>\n",
       "      <td>8.285714</td>\n",
       "      <td>0.031944</td>\n",
       "      <td>2.657710</td>\n",
       "      <td>-19.428571</td>\n",
       "      <td>11.239357</td>\n",
       "      <td>FCC+Im</td>\n",
       "      <td>476.0</td>\n",
       "    </tr>\n",
       "  </tbody>\n",
       "</table>\n",
       "</div>"
      ],
      "text/plain": [
       "        vec  deltachi     delta  deltahmix  deltasmix   phase     ys\n",
       "0  9.000000  0.032998  0.327647  -1.333333   9.134371     FCC  204.0\n",
       "1  9.000000  0.032998  0.327647  -1.333333   9.134371     FCC  209.0\n",
       "2  9.000000  0.032998  0.327647  -1.333333   9.134371     FCC  211.0\n",
       "3  8.615385  0.032490  2.025282 -11.834320  10.686521     FCC  196.0\n",
       "4  8.285714  0.031944  2.657710 -19.428571  11.239357  FCC+Im  476.0"
      ]
     },
     "execution_count": 2,
     "metadata": {},
     "output_type": "execute_result"
    }
   ],
   "source": [
    "#initial information\n",
    "path = \"C:\\\\Users\\\\PV\\\\OneDrive\\\\Documents\\\\ehhhh\\\\Machine Learning\\\\data_poll\\\\\"\n",
    "rd_seed = 173808\n",
    "df = pd.read_csv(path + \"copy_of_ys1a_with_phase.csv\", quoting=3, index_col=False)\n",
    "df.head()"
   ]
  },
  {
   "cell_type": "code",
   "execution_count": 3,
   "metadata": {},
   "outputs": [
    {
     "data": {
      "text/plain": [
       "vec          float64\n",
       "deltachi     float64\n",
       "delta        float64\n",
       "deltahmix    float64\n",
       "deltasmix    float64\n",
       "phase         object\n",
       "ys           float64\n",
       "dtype: object"
      ]
     },
     "execution_count": 3,
     "metadata": {},
     "output_type": "execute_result"
    }
   ],
   "source": [
    "df.dtypes"
   ]
  },
  {
   "cell_type": "code",
   "execution_count": 4,
   "metadata": {},
   "outputs": [
    {
     "name": "stdout",
     "output_type": "stream",
     "text": [
      "<class 'pandas.core.frame.DataFrame'>\n",
      "<class 'pandas.core.series.Series'>\n"
     ]
    }
   ],
   "source": [
    "target_col = 'ys'\n",
    "X = df.loc[:, df.columns != target_col]\n",
    "y = df.loc[:, target_col]\n",
    "\n",
    "# change phase into numeric type\n",
    "pd.options.mode.chained_assignment = None\n",
    "X['phase'] = LabelEncoder().fit_transform(X['phase'])\n",
    "\n",
    "X_train, X_test, y_train, y_test = train_test_split(X, y, test_size=0.2, random_state=rd_seed)\n",
    "\n",
    "print(type(X_train))\n",
    "print(type(y_train))\n",
    "\n",
    "X_train = X_train.to_numpy()\n",
    "y_train = y_train.to_numpy()\n",
    "\n",
    "X_test = X_test.to_numpy()\n",
    "y_test = y_test.to_numpy()"
   ]
  },
  {
   "cell_type": "code",
   "execution_count": 9,
   "metadata": {},
   "outputs": [
    {
     "data": {
      "application/vnd.jupyter.widget-view+json": {
       "model_id": "7dba82f895264424be02b5af0be17db1",
       "version_major": 2,
       "version_minor": 0
      },
      "text/plain": [
       "Optimization Progress:   0%|          | 0/3100 [00:00<?, ?pipeline/s]"
      ]
     },
     "metadata": {},
     "output_type": "display_data"
    },
    {
     "name": "stdout",
     "output_type": "stream",
     "text": [
      "\n",
      "Generation 1 - Current best internal CV score: -78172.9576756722\n",
      "\n",
      "Generation 2 - Current best internal CV score: -78172.9576756722\n",
      "\n",
      "Generation 3 - Current best internal CV score: -78172.9576756722\n",
      "\n",
      "Generation 4 - Current best internal CV score: -78172.9576756722\n",
      "\n",
      "Generation 5 - Current best internal CV score: -76252.31711784641\n",
      "\n",
      "Generation 6 - Current best internal CV score: -73004.32921946529\n",
      "\n",
      "Generation 7 - Current best internal CV score: -73004.32921946529\n",
      "\n",
      "Generation 8 - Current best internal CV score: -73004.32921946529\n",
      "\n",
      "Generation 9 - Current best internal CV score: -73004.32921946529\n",
      "\n",
      "Generation 10 - Current best internal CV score: -72999.24457934932\n",
      "\n",
      "Generation 11 - Current best internal CV score: -72999.24457934932\n",
      "\n",
      "Generation 12 - Current best internal CV score: -72999.24457934932\n",
      "\n",
      "Generation 13 - Current best internal CV score: -72999.24457934932\n",
      "\n",
      "Generation 14 - Current best internal CV score: -72999.24457934932\n",
      "\n",
      "Generation 15 - Current best internal CV score: -70610.46096348828\n",
      "\n",
      "Generation 16 - Current best internal CV score: -70248.94756044894\n",
      "\n",
      "Generation 17 - Current best internal CV score: -70248.94756044894\n",
      "\n",
      "Generation 18 - Current best internal CV score: -70054.75937297987\n",
      "\n",
      "Generation 19 - Current best internal CV score: -64607.353431901276\n",
      "\n",
      "Generation 20 - Current best internal CV score: -64607.353431901276\n",
      "\n",
      "Generation 21 - Current best internal CV score: -64607.353431901276\n",
      "\n",
      "Generation 22 - Current best internal CV score: -64607.353431901276\n",
      "\n",
      "Generation 23 - Current best internal CV score: -64607.353431901276\n",
      "\n",
      "Generation 24 - Current best internal CV score: -64607.353431901276\n",
      "\n",
      "Generation 25 - Current best internal CV score: -64607.353431901276\n",
      "\n",
      "Generation 26 - Current best internal CV score: -64607.353431901276\n",
      "\n",
      "Generation 27 - Current best internal CV score: -64607.353431901276\n",
      "\n",
      "Generation 28 - Current best internal CV score: -64607.353431901276\n",
      "\n",
      "Generation 29 - Current best internal CV score: -64607.353431901276\n",
      "\n",
      "Generation 30 - Current best internal CV score: -64607.353431901276\n",
      "\n",
      "Best pipeline: GradientBoostingRegressor(SGDRegressor(PolynomialFeatures(input_matrix, degree=2, include_bias=False, interaction_only=False), alpha=0.001, eta0=1.0, fit_intercept=True, l1_ratio=0.5, learning_rate=constant, loss=squared_loss, penalty=elasticnet, power_t=50.0), alpha=0.9, learning_rate=0.1, loss=ls, max_depth=5, max_features=0.9500000000000001, min_samples_leaf=7, min_samples_split=14, n_estimators=100, subsample=0.9500000000000001)\n"
     ]
    },
    {
     "data": {
      "text/html": [
       "<style>#sk-container-id-2 {color: black;background-color: white;}#sk-container-id-2 pre{padding: 0;}#sk-container-id-2 div.sk-toggleable {background-color: white;}#sk-container-id-2 label.sk-toggleable__label {cursor: pointer;display: block;width: 100%;margin-bottom: 0;padding: 0.3em;box-sizing: border-box;text-align: center;}#sk-container-id-2 label.sk-toggleable__label-arrow:before {content: \"▸\";float: left;margin-right: 0.25em;color: #696969;}#sk-container-id-2 label.sk-toggleable__label-arrow:hover:before {color: black;}#sk-container-id-2 div.sk-estimator:hover label.sk-toggleable__label-arrow:before {color: black;}#sk-container-id-2 div.sk-toggleable__content {max-height: 0;max-width: 0;overflow: hidden;text-align: left;background-color: #f0f8ff;}#sk-container-id-2 div.sk-toggleable__content pre {margin: 0.2em;color: black;border-radius: 0.25em;background-color: #f0f8ff;}#sk-container-id-2 input.sk-toggleable__control:checked~div.sk-toggleable__content {max-height: 200px;max-width: 100%;overflow: auto;}#sk-container-id-2 input.sk-toggleable__control:checked~label.sk-toggleable__label-arrow:before {content: \"▾\";}#sk-container-id-2 div.sk-estimator input.sk-toggleable__control:checked~label.sk-toggleable__label {background-color: #d4ebff;}#sk-container-id-2 div.sk-label input.sk-toggleable__control:checked~label.sk-toggleable__label {background-color: #d4ebff;}#sk-container-id-2 input.sk-hidden--visually {border: 0;clip: rect(1px 1px 1px 1px);clip: rect(1px, 1px, 1px, 1px);height: 1px;margin: -1px;overflow: hidden;padding: 0;position: absolute;width: 1px;}#sk-container-id-2 div.sk-estimator {font-family: monospace;background-color: #f0f8ff;border: 1px dotted black;border-radius: 0.25em;box-sizing: border-box;margin-bottom: 0.5em;}#sk-container-id-2 div.sk-estimator:hover {background-color: #d4ebff;}#sk-container-id-2 div.sk-parallel-item::after {content: \"\";width: 100%;border-bottom: 1px solid gray;flex-grow: 1;}#sk-container-id-2 div.sk-label:hover label.sk-toggleable__label {background-color: #d4ebff;}#sk-container-id-2 div.sk-serial::before {content: \"\";position: absolute;border-left: 1px solid gray;box-sizing: border-box;top: 0;bottom: 0;left: 50%;z-index: 0;}#sk-container-id-2 div.sk-serial {display: flex;flex-direction: column;align-items: center;background-color: white;padding-right: 0.2em;padding-left: 0.2em;position: relative;}#sk-container-id-2 div.sk-item {position: relative;z-index: 1;}#sk-container-id-2 div.sk-parallel {display: flex;align-items: stretch;justify-content: center;background-color: white;position: relative;}#sk-container-id-2 div.sk-item::before, #sk-container-id-2 div.sk-parallel-item::before {content: \"\";position: absolute;border-left: 1px solid gray;box-sizing: border-box;top: 0;bottom: 0;left: 50%;z-index: -1;}#sk-container-id-2 div.sk-parallel-item {display: flex;flex-direction: column;z-index: 1;position: relative;background-color: white;}#sk-container-id-2 div.sk-parallel-item:first-child::after {align-self: flex-end;width: 50%;}#sk-container-id-2 div.sk-parallel-item:last-child::after {align-self: flex-start;width: 50%;}#sk-container-id-2 div.sk-parallel-item:only-child::after {width: 0;}#sk-container-id-2 div.sk-dashed-wrapped {border: 1px dashed gray;margin: 0 0.4em 0.5em 0.4em;box-sizing: border-box;padding-bottom: 0.4em;background-color: white;}#sk-container-id-2 div.sk-label label {font-family: monospace;font-weight: bold;display: inline-block;line-height: 1.2em;}#sk-container-id-2 div.sk-label-container {text-align: center;}#sk-container-id-2 div.sk-container {/* jupyter's `normalize.less` sets `[hidden] { display: none; }` but bootstrap.min.css set `[hidden] { display: none !important; }` so we also need the `!important` here to be able to override the default hidden behavior on the sphinx rendered scikit-learn.org. See: https://github.com/scikit-learn/scikit-learn/issues/21755 */display: inline-block !important;position: relative;}#sk-container-id-2 div.sk-text-repr-fallback {display: none;}</style><div id=\"sk-container-id-2\" class=\"sk-top-container\"><div class=\"sk-text-repr-fallback\"><pre>TPOTRegressor(cv=10, generations=30, n_jobs=-1,\n",
       "              periodic_checkpoint_folder=&#x27;C:\\\\Users\\\\PV\\\\OneDrive\\\\Documents\\\\ehhhh\\\\Machine &#x27;\n",
       "                                         &#x27;Learning\\\\tpot\\\\training process &#x27;\n",
       "                                         &#x27;phase&#x27;,\n",
       "              random_state=173808, scoring=&#x27;neg_mean_squared_error&#x27;,\n",
       "              verbosity=2, warm_start=True)</pre><b>In a Jupyter environment, please rerun this cell to show the HTML representation or trust the notebook. <br />On GitHub, the HTML representation is unable to render, please try loading this page with nbviewer.org.</b></div><div class=\"sk-container\" hidden><div class=\"sk-item\"><div class=\"sk-estimator sk-toggleable\"><input class=\"sk-toggleable__control sk-hidden--visually\" id=\"sk-estimator-id-2\" type=\"checkbox\" checked><label for=\"sk-estimator-id-2\" class=\"sk-toggleable__label sk-toggleable__label-arrow\">TPOTRegressor</label><div class=\"sk-toggleable__content\"><pre>TPOTRegressor(cv=10, generations=30, n_jobs=-1,\n",
       "              periodic_checkpoint_folder=&#x27;C:\\\\Users\\\\PV\\\\OneDrive\\\\Documents\\\\ehhhh\\\\Machine &#x27;\n",
       "                                         &#x27;Learning\\\\tpot\\\\training process &#x27;\n",
       "                                         &#x27;phase&#x27;,\n",
       "              random_state=173808, scoring=&#x27;neg_mean_squared_error&#x27;,\n",
       "              verbosity=2, warm_start=True)</pre></div></div></div></div></div>"
      ],
      "text/plain": [
       "TPOTRegressor(cv=10, generations=30, n_jobs=-1,\n",
       "              periodic_checkpoint_folder='C:\\\\Users\\\\PV\\\\OneDrive\\\\Documents\\\\ehhhh\\\\Machine '\n",
       "                                         'Learning\\\\tpot\\\\training process '\n",
       "                                         'phase',\n",
       "              random_state=173808, scoring='neg_mean_squared_error',\n",
       "              verbosity=2, warm_start=True)"
      ]
     },
     "execution_count": 9,
     "metadata": {},
     "output_type": "execute_result"
    }
   ],
   "source": [
    "rgs = tpot.TPOTRegressor(\n",
    "    population_size=100,\n",
    "    generations=30,\n",
    "    scoring='neg_mean_squared_error',\n",
    "    cv=10,\n",
    "    n_jobs=-1,\n",
    "    warm_start=True,\n",
    "    random_state=rd_seed,\n",
    "    periodic_checkpoint_folder='C:\\\\Users\\\\PV\\\\OneDrive\\\\Documents\\\\ehhhh\\Machine Learning\\\\tpot\\\\training process phase',\n",
    "    verbosity=2\n",
    ")\n",
    "\n",
    "rgs.fit(X_train, y_train)\n",
    " "
   ]
  },
  {
   "cell_type": "code",
   "execution_count": 6,
   "metadata": {},
   "outputs": [],
   "source": [
    "y_pred = rgs.predict(X_test)\n",
    "\n",
    "pd.DataFrame(y_pred, columns=['prediction'])\n",
    "\n",
    "y_pred_df = pd.DataFrame(y_pred, columns=['predicted'])\n",
    "y_true_df = pd.DataFrame(y_test, columns=['true'])\n",
    "\n",
    "data_as_df = pd.concat([y_true_df, y_pred_df], axis=1)"
   ]
  },
  {
   "cell_type": "code",
   "execution_count": 7,
   "metadata": {},
   "outputs": [
    {
     "data": {
      "text/plain": [
       "<seaborn.axisgrid.FacetGrid at 0x24be27bde10>"
      ]
     },
     "execution_count": 7,
     "metadata": {},
     "output_type": "execute_result"
    },
    {
     "data": {
      "image/png": "[encoded data removed]",
      "text/plain": [
       "<Figure size 1000x1000 with 1 Axes>"
      ]
     },
     "metadata": {},
     "output_type": "display_data"
    }
   ],
   "source": [
    "ax = sns.lmplot(x='true', y='predicted', data=data_as_df, height=10, ci=None)\n",
    "ax.set(xlabel='true value', ylabel='predicted value')\n",
    "\n",
    "ax"
   ]
  },
  {
   "cell_type": "code",
   "execution_count": 8,
   "metadata": {},
   "outputs": [],
   "source": [
    "rgs.export('tpot_exported_pipeline_phase.py')"
   ]
  }
 ],
 "metadata": {
  "kernelspec": {
   "display_name": "Python 3",
   "language": "python",
   "name": "python3"
  },
  "language_info": {
   "codemirror_mode": {
    "name": "ipython",
    "version": 3
   },
   "file_extension": ".py",
   "mimetype": "text/x-python",
   "name": "python",
   "nbconvert_exporter": "python",
   "pygments_lexer": "ipython3",
   "version": "3.11.0 (main, Oct 24 2022, 18:26:48) [MSC v.1933 64 bit (AMD64)]"
  },
  "orig_nbformat": 4,
  "vscode": {
   "interpreter": {
    "hash": "ad94604febfb17e51ede3b8177999a88830d0adbd7466306a70e2c9d31eb2d0c"
   }
  }
 },
 "nbformat": 4,
 "nbformat_minor": 2
}
