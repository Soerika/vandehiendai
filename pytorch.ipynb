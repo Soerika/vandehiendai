{
 "cells": [
  {
   "cell_type": "code",
   "execution_count": null,
   "metadata": {},
   "outputs": [],
   "source": []
  }
 ],
 "metadata": {
  "kernelspec": {
   "display_name": "Python 3.11.0 64-bit",
   "language": "python",
   "name": "python3"
  },
  "language_info": {
   "name": "python",
   "version": "3.11.0"
  },
  "orig_nbformat": 4,
  "vscode": {
   "interpreter": {
    "hash": "ad94604febfb17e51ede3b8177999a88830d0adbd7466306a70e2c9d31eb2d0c"
   }
  }
 },
 "nbformat": 4,
 "nbformat_minor": 2
}
