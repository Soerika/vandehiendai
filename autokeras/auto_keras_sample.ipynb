{
 "cells": [
  {
   "cell_type": "code",
   "execution_count": 1,
   "metadata": {},
   "outputs": [],
   "source": [
    "import numpy as np\n",
    "import pandas as pd\n",
    "import tensorflow as tf\n",
    "from sklearn.datasets import fetch_california_housing\n",
    "\n",
    "import autokeras as ak"
   ]
  },
  {
   "cell_type": "code",
   "execution_count": 2,
   "metadata": {},
   "outputs": [],
   "source": [
    "house_dataset = fetch_california_housing()\n",
    "df = pd.DataFrame(\n",
    "    np.concatenate(\n",
    "        (house_dataset.data, house_dataset.target.reshape(-1, 1)), axis=1\n",
    "    ),\n",
    "    columns=house_dataset.feature_names + [\"Price\"],\n",
    ")\n",
    "train_size = int(df.shape[0] * 0.9)\n",
    "df[:train_size].to_csv(\"train.csv\", index=False)\n",
    "df[train_size:].to_csv(\"eval.csv\", index=False)\n",
    "train_file_path = \"train.csv\"\n",
    "test_file_path = \"eval.csv\""
   ]
  },
  {
   "cell_type": "code",
   "execution_count": 3,
   "metadata": {},
   "outputs": [
    {
     "name": "stdout",
     "output_type": "stream",
     "text": [
      "Trial 3 Complete [00h 00m 15s]\n",
      "val_loss: 0.8332430720329285\n",
      "\n",
      "Best val_loss So Far: 0.8332430720329285\n",
      "Total elapsed time: 00h 00m 45s\n",
      "INFO:tensorflow:Oracle triggered exit\n"
     ]
    },
    {
     "name": "stdout",
     "output_type": "stream",
     "text": [
      "Epoch 1/10\n",
      "581/581 [==============================] - 2s 2ms/step - loss: 1.3079 - mean_squared_error: 1.3079\n",
      "Epoch 2/10\n",
      "581/581 [==============================] - 1s 2ms/step - loss: 0.6215 - mean_squared_error: 0.6215\n",
      "Epoch 3/10\n",
      "581/581 [==============================] - 1s 2ms/step - loss: 0.5530 - mean_squared_error: 0.5530\n",
      "Epoch 4/10\n",
      "581/581 [==============================] - 1s 1ms/step - loss: 0.5312 - mean_squared_error: 0.5312\n",
      "Epoch 5/10\n",
      "581/581 [==============================] - 1s 2ms/step - loss: 0.5218 - mean_squared_error: 0.5218\n",
      "Epoch 6/10\n",
      "581/581 [==============================] - 1s 2ms/step - loss: 0.5114 - mean_squared_error: 0.5114\n",
      "Epoch 7/10\n",
      "581/581 [==============================] - 1s 1ms/step - loss: 0.5024 - mean_squared_error: 0.5024\n",
      "Epoch 8/10\n",
      "581/581 [==============================] - 1s 2ms/step - loss: 0.4969 - mean_squared_error: 0.4969\n",
      "Epoch 9/10\n",
      "581/581 [==============================] - 1s 1ms/step - loss: 0.4933 - mean_squared_error: 0.4933\n",
      "Epoch 10/10\n",
      "581/581 [==============================] - 1s 2ms/step - loss: 0.4885 - mean_squared_error: 0.4885\n"
     ]
    },
    {
     "name": "stderr",
     "output_type": "stream",
     "text": [
      "WARNING:absl:Found untraced functions such as _update_step_xla while saving (showing 1 of 1). These functions will not be directly callable after loading.\n"
     ]
    },
    {
     "name": "stdout",
     "output_type": "stream",
     "text": [
      "INFO:tensorflow:Assets written to: .\\structured_data_regressor\\best_model\\assets\n"
     ]
    },
    {
     "name": "stderr",
     "output_type": "stream",
     "text": [
      "INFO:tensorflow:Assets written to: .\\structured_data_regressor\\best_model\\assets\n"
     ]
    },
    {
     "name": "stdout",
     "output_type": "stream",
     "text": [
      "65/65 [==============================] - 0s 2ms/step\n",
      "65/65 [==============================] - 0s 2ms/step\n",
      "65/65 [==============================] - 0s 2ms/step - loss: 0.5731 - mean_squared_error: 0.5731\n",
      "[0.5730753540992737, 0.5730753540992737]\n"
     ]
    }
   ],
   "source": [
    "# Initialize the structured data regressor.\n",
    "reg = ak.StructuredDataRegressor(\n",
    "    overwrite=True, max_trials=3\n",
    ")  # It tries 3 different models.\n",
    "# Feed the structured data regressor with training data.\n",
    "reg.fit(\n",
    "    # The path to the train.csv file.\n",
    "    train_file_path,\n",
    "    # The name of the label column.\n",
    "    \"Price\",\n",
    "    epochs=10,\n",
    ")\n",
    "# Predict with the best model.\n",
    "predicted_y = reg.predict(test_file_path)\n",
    "# Evaluate the best model with testing data.\n",
    "print(reg.evaluate(test_file_path, \"Price\"))"
   ]
  },
  {
   "cell_type": "code",
   "execution_count": 4,
   "metadata": {},
   "outputs": [
    {
     "name": "stdout",
     "output_type": "stream",
     "text": [
      "Trial 3 Complete [00h 00m 15s]\n",
      "val_loss: 0.934581995010376\n",
      "\n",
      "Best val_loss So Far: 0.8589670658111572\n",
      "Total elapsed time: 00h 00m 43s\n",
      "INFO:tensorflow:Oracle triggered exit\n"
     ]
    },
    {
     "name": "stderr",
     "output_type": "stream",
     "text": [
      "INFO:tensorflow:Oracle triggered exit\n"
     ]
    },
    {
     "name": "stdout",
     "output_type": "stream",
     "text": [
      "Epoch 1/10\n",
      "581/581 [==============================] - 1s 1ms/step - loss: 1.0414 - mean_squared_error: 1.0414\n",
      "Epoch 2/10\n",
      "581/581 [==============================] - 1s 1ms/step - loss: 0.5847 - mean_squared_error: 0.5847\n",
      "Epoch 3/10\n",
      "581/581 [==============================] - 1s 1ms/step - loss: 0.5451 - mean_squared_error: 0.5451\n",
      "Epoch 4/10\n",
      "581/581 [==============================] - 1s 1ms/step - loss: 0.5314 - mean_squared_error: 0.5314\n",
      "Epoch 5/10\n",
      "581/581 [==============================] - 1s 1ms/step - loss: 0.5163 - mean_squared_error: 0.5163\n",
      "Epoch 6/10\n",
      "581/581 [==============================] - 1s 2ms/step - loss: 0.5068 - mean_squared_error: 0.5068\n",
      "Epoch 7/10\n",
      "581/581 [==============================] - 1s 2ms/step - loss: 0.4986 - mean_squared_error: 0.4986\n",
      "Epoch 8/10\n",
      "581/581 [==============================] - 1s 2ms/step - loss: 0.4943 - mean_squared_error: 0.4943\n",
      "Epoch 9/10\n",
      "581/581 [==============================] - 1s 2ms/step - loss: 0.4873 - mean_squared_error: 0.4873\n",
      "Epoch 10/10\n",
      "581/581 [==============================] - 1s 2ms/step - loss: 0.4841 - mean_squared_error: 0.4841\n"
     ]
    },
    {
     "name": "stderr",
     "output_type": "stream",
     "text": [
      "WARNING:absl:Found untraced functions such as _update_step_xla while saving (showing 1 of 1). These functions will not be directly callable after loading.\n"
     ]
    },
    {
     "name": "stdout",
     "output_type": "stream",
     "text": [
      "INFO:tensorflow:Assets written to: .\\structured_data_regressor\\best_model\\assets\n"
     ]
    },
    {
     "name": "stderr",
     "output_type": "stream",
     "text": [
      "INFO:tensorflow:Assets written to: .\\structured_data_regressor\\best_model\\assets\n"
     ]
    },
    {
     "name": "stdout",
     "output_type": "stream",
     "text": [
      "65/65 [==============================] - 0s 4ms/step\n",
      "65/65 [==============================] - 0s 5ms/step\n",
      "65/65 [==============================] - 1s 3ms/step - loss: 0.6029 - mean_squared_error: 0.6029\n",
      "[0.6029301285743713, 0.6029301285743713]\n"
     ]
    }
   ],
   "source": [
    "# x_train as pandas.DataFrame, y_train as pandas.Series\n",
    "x_train = pd.read_csv(train_file_path)\n",
    "print(type(x_train))  # pandas.DataFrame\n",
    "y_train = x_train.pop(\"Price\")\n",
    "print(type(y_train))  # pandas.Series\n",
    "\n",
    "# You can also use pandas.DataFrame for y_train.\n",
    "y_train = pd.DataFrame(y_train)\n",
    "print(type(y_train))  # pandas.DataFrame\n",
    "\n",
    "# You can also use numpy.ndarray for x_train and y_train.\n",
    "x_train = x_train.to_numpy()\n",
    "y_train = y_train.to_numpy()\n",
    "print(type(x_train))  # numpy.ndarray\n",
    "print(type(y_train))  # numpy.ndarray\n",
    "\n",
    "# Preparing testing data.\n",
    "x_test = pd.read_csv(test_file_path)\n",
    "y_test = x_test.pop(\"Price\")\n",
    "\n",
    "# It tries 10 different models.\n",
    "reg = ak.StructuredDataRegressor(max_trials=3, overwrite=True)\n",
    "# Feed the structured data regressor with training data.\n",
    "reg.fit(x_train, y_train, epochs=10)\n",
    "# Predict with the best model.\n",
    "predicted_y = reg.predict(x_test)\n",
    "# Evaluate the best model with testing data.\n",
    "print(reg.evaluate(x_test, y_test))"
   ]
  },
  {
   "cell_type": "code",
   "execution_count": 5,
   "metadata": {},
   "outputs": [
    {
     "name": "stdout",
     "output_type": "stream",
     "text": [
      "Trial 3 Complete [00h 00m 18s]\n",
      "val_loss: 0.9134606719017029\n",
      "\n",
      "Best val_loss So Far: 0.8407657742500305\n",
      "Total elapsed time: 00h 00m 51s\n",
      "INFO:tensorflow:Oracle triggered exit\n"
     ]
    },
    {
     "name": "stderr",
     "output_type": "stream",
     "text": [
      "INFO:tensorflow:Oracle triggered exit\n"
     ]
    },
    {
     "name": "stdout",
     "output_type": "stream",
     "text": [
      "Epoch 1/10\n",
      "581/581 [==============================] - 2s 2ms/step - loss: 1.1805 - mean_squared_error: 1.1805\n",
      "Epoch 2/10\n",
      "581/581 [==============================] - 1s 2ms/step - loss: 0.6088 - mean_squared_error: 0.6088\n",
      "Epoch 3/10\n",
      "581/581 [==============================] - 1s 2ms/step - loss: 0.5621 - mean_squared_error: 0.5621\n",
      "Epoch 4/10\n",
      "581/581 [==============================] - 1s 2ms/step - loss: 0.5510 - mean_squared_error: 0.5510\n",
      "Epoch 5/10\n",
      "581/581 [==============================] - 1s 1ms/step - loss: 0.5226 - mean_squared_error: 0.5226\n",
      "Epoch 6/10\n",
      "581/581 [==============================] - 1s 2ms/step - loss: 0.5136 - mean_squared_error: 0.5136\n",
      "Epoch 7/10\n",
      "581/581 [==============================] - 1s 2ms/step - loss: 0.5094 - mean_squared_error: 0.5094\n",
      "Epoch 8/10\n",
      "581/581 [==============================] - 1s 2ms/step - loss: 0.5052 - mean_squared_error: 0.5052\n",
      "Epoch 9/10\n",
      "581/581 [==============================] - 1s 2ms/step - loss: 0.4957 - mean_squared_error: 0.4957\n",
      "Epoch 10/10\n",
      "581/581 [==============================] - 1s 2ms/step - loss: 0.4896 - mean_squared_error: 0.4896\n"
     ]
    },
    {
     "name": "stderr",
     "output_type": "stream",
     "text": [
      "WARNING:absl:Found untraced functions such as _update_step_xla while saving (showing 1 of 1). These functions will not be directly callable after loading.\n"
     ]
    },
    {
     "name": "stdout",
     "output_type": "stream",
     "text": [
      "INFO:tensorflow:Assets written to: .\\structured_data_regressor\\best_model\\assets\n"
     ]
    },
    {
     "name": "stderr",
     "output_type": "stream",
     "text": [
      "INFO:tensorflow:Assets written to: .\\structured_data_regressor\\best_model\\assets\n"
     ]
    },
    {
     "name": "stdout",
     "output_type": "stream",
     "text": [
      "65/65 [==============================] - 0s 3ms/step\n",
      "65/65 [==============================] - 0s 2ms/step\n",
      "65/65 [==============================] - 0s 1ms/step - loss: 0.5544 - mean_squared_error: 0.5544\n",
      "[0.5544163584709167, 0.5544163584709167]\n"
     ]
    }
   ],
   "source": [
    "train_set = tf.data.Dataset.from_tensor_slices((x_train, y_train))\n",
    "test_set = tf.data.Dataset.from_tensor_slices((x_test, y_test))\n",
    "\n",
    "reg = ak.StructuredDataRegressor(max_trials=3, overwrite=True)\n",
    "# Feed the tensorflow Dataset to the regressor.\n",
    "reg.fit(train_set, epochs=10)\n",
    "# Predict with the best model.\n",
    "predicted_y = reg.predict(test_set)\n",
    "# Evaluate the best model with testing data.\n",
    "print(reg.evaluate(test_set))"
   ]
  },
  {
   "cell_type": "code",
   "execution_count": 6,
   "metadata": {},
   "outputs": [],
   "source": [
    "# Initialize the structured data regressor.\n",
    "reg = ak.StructuredDataRegressor(\n",
    "    column_names=[\n",
    "        \"MedInc\",\n",
    "        \"HouseAge\",\n",
    "        \"AveRooms\",\n",
    "        \"AveBedrms\",\n",
    "        \"Population\",\n",
    "        \"AveOccup\",\n",
    "        \"Latitude\",\n",
    "        \"Longitude\",\n",
    "    ],\n",
    "    column_types={\"MedInc\": \"numerical\", \"Latitude\": \"numerical\"},\n",
    "    max_trials=10,  # It tries 10 different models.\n",
    "    overwrite=True,\n",
    ")"
   ]
  },
  {
   "cell_type": "code",
   "execution_count": 7,
   "metadata": {},
   "outputs": [
    {
     "name": "stdout",
     "output_type": "stream",
     "text": [
      "Trial 10 Complete [00h 00m 13s]\n",
      "val_loss: 0.7940914630889893\n",
      "\n",
      "Best val_loss So Far: 0.6522465944290161\n",
      "Total elapsed time: 00h 02m 48s\n",
      "INFO:tensorflow:Oracle triggered exit\n"
     ]
    },
    {
     "name": "stderr",
     "output_type": "stream",
     "text": [
      "INFO:tensorflow:Oracle triggered exit\n"
     ]
    },
    {
     "name": "stdout",
     "output_type": "stream",
     "text": [
      "Epoch 1/10\n",
      "581/581 [==============================] - 2s 2ms/step - loss: 1.0621 - mean_squared_error: 1.0621\n",
      "Epoch 2/10\n",
      "581/581 [==============================] - 1s 2ms/step - loss: 0.7990 - mean_squared_error: 0.7990\n",
      "Epoch 3/10\n",
      "581/581 [==============================] - 1s 2ms/step - loss: 0.9974 - mean_squared_error: 0.9974\n",
      "Epoch 4/10\n",
      "581/581 [==============================] - 1s 2ms/step - loss: 0.8067 - mean_squared_error: 0.8067\n",
      "Epoch 5/10\n",
      "581/581 [==============================] - 1s 2ms/step - loss: 0.7569 - mean_squared_error: 0.7569\n",
      "Epoch 6/10\n",
      "581/581 [==============================] - 1s 2ms/step - loss: 0.7690 - mean_squared_error: 0.7690\n",
      "Epoch 7/10\n",
      "581/581 [==============================] - 1s 2ms/step - loss: 0.7455 - mean_squared_error: 0.7455\n",
      "Epoch 8/10\n",
      "581/581 [==============================] - 1s 2ms/step - loss: 0.7134 - mean_squared_error: 0.7134\n",
      "Epoch 9/10\n",
      "581/581 [==============================] - 1s 2ms/step - loss: 0.7248 - mean_squared_error: 0.7248\n",
      "Epoch 10/10\n",
      "581/581 [==============================] - 1s 2ms/step - loss: 0.7008 - mean_squared_error: 0.7008\n"
     ]
    },
    {
     "name": "stderr",
     "output_type": "stream",
     "text": [
      "WARNING:absl:Found untraced functions such as _update_step_xla while saving (showing 1 of 1). These functions will not be directly callable after loading.\n"
     ]
    },
    {
     "name": "stdout",
     "output_type": "stream",
     "text": [
      "INFO:tensorflow:Assets written to: .\\structured_data_regressor\\best_model\\assets\n"
     ]
    },
    {
     "name": "stderr",
     "output_type": "stream",
     "text": [
      "INFO:tensorflow:Assets written to: .\\structured_data_regressor\\best_model\\assets\n"
     ]
    },
    {
     "data": {
      "text/plain": [
       "<keras.callbacks.History at 0x1ef8f654130>"
      ]
     },
     "execution_count": 7,
     "metadata": {},
     "output_type": "execute_result"
    }
   ],
   "source": [
    "reg.fit(\n",
    "    x_train,\n",
    "    y_train,\n",
    "    # Split the training data and use the last 15% as validation data.\n",
    "    validation_split=0.15,\n",
    "    epochs=10,\n",
    ")"
   ]
  },
  {
   "cell_type": "code",
   "execution_count": 8,
   "metadata": {},
   "outputs": [],
   "source": [
    "split = 500\n",
    "x_val = x_train[split:]\n",
    "y_val = y_train[split:]\n",
    "x_train = x_train[:split]\n",
    "y_train = y_train[:split]\n",
    "reg.fit(\n",
    "    x_train,\n",
    "    y_train,\n",
    "    # Use your own validation set.\n",
    "    validation_data=(x_val, y_val),\n",
    "    epochs=10,\n",
    ")"
   ]
  },
  {
   "cell_type": "code",
   "execution_count": null,
   "metadata": {},
   "outputs": [
    {
     "name": "stdout",
     "output_type": "stream",
     "text": [
      "[]\n"
     ]
    }
   ],
   "source": [
    "!python -c \"import tensorflow as tf; print(tf.config.list_physical_devices('GPU'))\""
   ]
  },
  {
   "cell_type": "code",
   "execution_count": 11,
   "metadata": {},
   "outputs": [
    {
     "name": "stdout",
     "output_type": "stream",
     "text": [
      "Package                       Version\n",
      "----------------------------- ----------\n",
      "absl-py                       1.3.0\n",
      "asttokens                     2.1.0\n",
      "astunparse                    1.6.3\n",
      "autokeras                     1.0.20\n",
      "backcall                      0.2.0\n",
      "backports.functools-lru-cache 1.6.4\n",
      "cachetools                    5.2.0\n",
      "certifi                       2022.9.24\n",
      "charset-normalizer            2.1.1\n",
      "colorama                      0.4.6\n",
      "contourpy                     1.0.6\n",
      "cycler                        0.11.0\n",
      "debugpy                       1.6.3\n",
      "decorator                     5.1.1\n",
      "entrypoints                   0.4\n",
      "executing                     1.2.0\n",
      "flatbuffers                   22.11.23\n",
      "fonttools                     4.38.0\n",
      "gast                          0.4.0\n",
      "google-auth                   2.14.1\n",
      "google-auth-oauthlib          0.4.6\n",
      "google-pasta                  0.2.0\n",
      "grpcio                        1.50.0\n",
      "h5py                          3.7.0\n",
      "idna                          3.4\n",
      "importlib-metadata            5.1.0\n",
      "ipykernel                     6.17.1\n",
      "ipython                       8.6.0\n",
      "jedi                          0.18.2\n",
      "joblib                        1.2.0\n",
      "jupyter_client                7.4.7\n",
      "jupyter_core                  5.0.0\n",
      "keras                         2.11.0\n",
      "keras-tuner                   1.2.0.dev0\n",
      "kiwisolver                    1.4.4\n",
      "kt-legacy                     1.0.4\n",
      "libclang                      14.0.6\n",
      "Markdown                      3.4.1\n",
      "MarkupSafe                    2.1.1\n",
      "matplotlib                    3.6.2\n",
      "matplotlib-inline             0.1.6\n",
      "nest-asyncio                  1.5.6\n",
      "numpy                         1.23.5\n",
      "oauthlib                      3.2.2\n",
      "opt-einsum                    3.3.0\n",
      "packaging                     21.3\n",
      "pandas                        1.5.2\n",
      "parso                         0.8.3\n",
      "pickleshare                   0.7.5\n",
      "Pillow                        9.3.0\n",
      "pip                           22.2.2\n",
      "platformdirs                  2.5.2\n",
      "prompt-toolkit                3.0.33\n",
      "protobuf                      3.19.6\n",
      "psutil                        5.9.0\n",
      "pure-eval                     0.2.2\n",
      "pyasn1                        0.4.8\n",
      "pyasn1-modules                0.2.8\n",
      "Pygments                      2.13.0\n",
      "pyparsing                     3.0.9\n",
      "python-dateutil               2.8.2\n",
      "pytz                          2022.6\n",
      "pywin32                       227\n",
      "pyzmq                         23.2.0\n",
      "requests                      2.28.1\n",
      "requests-oauthlib             1.3.1\n",
      "rsa                           4.9\n",
      "scikit-learn                  1.1.3\n",
      "scipy                         1.9.3\n",
      "seaborn                       0.12.1\n",
      "setuptools                    65.5.0\n",
      "six                           1.16.0\n",
      "sklearn                       0.0.post1\n",
      "stack-data                    0.6.1\n",
      "tensorboard                   2.11.0\n",
      "tensorboard-data-server       0.6.1\n",
      "tensorboard-plugin-wit        1.8.1\n",
      "tensorflow                    2.11.0\n",
      "tensorflow-cpu                2.11.0\n",
      "tensorflow-estimator          2.11.0\n",
      "tensorflow-intel              2.11.0\n",
      "tensorflow-io-gcs-filesystem  0.28.0\n",
      "termcolor                     2.1.1\n",
      "threadpoolctl                 3.1.0\n",
      "tornado                       6.2\n",
      "traitlets                     5.5.0\n",
      "typing_extensions             4.4.0\n",
      "urllib3                       1.26.13\n",
      "wcwidth                       0.2.5\n",
      "Werkzeug                      2.2.2\n",
      "wheel                         0.37.1\n",
      "wincertstore                  0.2\n",
      "wrapt                         1.14.1\n",
      "zipp                          3.11.0\n"
     ]
    }
   ],
   "source": [
    "!pip list"
   ]
  }
 ],
 "metadata": {
  "kernelspec": {
   "display_name": "Python 3.11.0 64-bit",
   "language": "python",
   "name": "python3"
  },
  "language_info": {
   "codemirror_mode": {
    "name": "ipython",
    "version": 3
   },
   "file_extension": ".py",
   "mimetype": "text/x-python",
   "name": "python",
   "nbconvert_exporter": "python",
   "pygments_lexer": "ipython3",
   "version": "3.11.0 (main, Oct 24 2022, 18:26:48) [MSC v.1933 64 bit (AMD64)]"
  },
  "orig_nbformat": 4,
  "vscode": {
   "interpreter": {
    "hash": "ad94604febfb17e51ede3b8177999a88830d0adbd7466306a70e2c9d31eb2d0c"
   }
  }
 },
 "nbformat": 4,
 "nbformat_minor": 2
}
